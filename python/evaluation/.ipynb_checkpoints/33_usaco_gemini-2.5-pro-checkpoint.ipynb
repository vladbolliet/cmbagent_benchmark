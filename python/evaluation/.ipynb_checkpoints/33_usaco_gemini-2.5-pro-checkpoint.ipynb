{
 "cells": [
  {
   "cell_type": "markdown",
   "id": "6b13ca21-1035-443d-abe1-272e23af39ae",
   "metadata": {},
   "source": [
    "# Evaluation on 33 usaco problems, gemini-2.5-pro\n",
    "### Observation: Timeout limit for executon per test case: 4 seconds"
   ]
  },
  {
   "cell_type": "code",
   "execution_count": 1,
   "id": "076306b6-2a7c-4d39-9a4a-d2e230556d6a",
   "metadata": {},
   "outputs": [],
   "source": [
    "from evaluation import run_benchmark"
   ]
  },
  {
   "cell_type": "code",
   "execution_count": null,
   "id": "13c5fcaa-0fa8-426b-a087-851708692ea1",
   "metadata": {},
   "outputs": [],
   "source": [
    "info = run_benchmark(\n",
    "    problem_json=\"/mnt/p/stage/cmbagent_benchmark/data/clean/usaco_clean_307.json\",\n",
    "    problem_dir=\"/mnt/p/stage/cmbagent_benchmark/data/clean/usaco_tests\",\n",
    "    eval_cmbagent=True,\n",
    "    cmbagent_model=\"gemini-2.5-pro\"\n",
    ")"
   ]
  },
  {
   "cell_type": "code",
   "execution_count": null,
   "id": "23c841a7-e1b9-4fa9-a619-710020972790",
   "metadata": {},
   "outputs": [],
   "source": []
  }
 ],
 "metadata": {
  "kernelspec": {
   "display_name": "Python (cmbagent_env)",
   "language": "python",
   "name": "cmbagent_env"
  },
  "language_info": {
   "codemirror_mode": {
    "name": "ipython",
    "version": 3
   },
   "file_extension": ".py",
   "mimetype": "text/x-python",
   "name": "python",
   "nbconvert_exporter": "python",
   "pygments_lexer": "ipython3",
   "version": "3.12.3"
  }
 },
 "nbformat": 4,
 "nbformat_minor": 5
}
